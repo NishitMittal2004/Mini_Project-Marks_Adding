{
  "nbformat": 4,
  "nbformat_minor": 0,
  "metadata": {
    "colab": {
      "provenance": [],
      "authorship_tag": "ABX9TyN4w0QV9h80E/0cQ0slz9Qa",
      "include_colab_link": true
    },
    "kernelspec": {
      "name": "python3",
      "display_name": "Python 3"
    },
    "language_info": {
      "name": "python"
    }
  },
  "cells": [
    {
      "cell_type": "markdown",
      "metadata": {
        "id": "view-in-github",
        "colab_type": "text"
      },
      "source": [
        "<a href=\"https://colab.research.google.com/github/NishitMittal2004/Mini_Project-Marks_Adding/blob/main/Mini_Project_Marks_Adding.ipynb\" target=\"_parent\"><img src=\"https://colab.research.google.com/assets/colab-badge.svg\" alt=\"Open In Colab\"/></a>"
      ]
    },
    {
      "cell_type": "markdown",
      "source": [
        "# **Mini Project - Marks Adding**\n",
        "---"
      ],
      "metadata": {
        "id": "QWZ4ApQ3mU7t"
      }
    },
    {
      "cell_type": "code",
      "execution_count": 12,
      "metadata": {
        "colab": {
          "base_uri": "https://localhost:8080/"
        },
        "id": "RDakobYcjhPl",
        "outputId": "b881250f-fe8e-4fae-d1a9-f92b9a0a2aca"
      },
      "outputs": [
        {
          "output_type": "stream",
          "name": "stdout",
          "text": [
            "Output file '/content/Output.csv' created successfully.\n"
          ]
        }
      ],
      "source": [
        "import csv\n",
        "\n",
        "def calculate_total_marks(input_file, output_file):\n",
        "    # Read the input file\n",
        "    fp = open(input_file, 'r')\n",
        "    reader = csv.reader(fp)\n",
        "    lines = list(reader)\n",
        "    fp.close()\n",
        "\n",
        "    # Skip the header row if present\n",
        "    lines = lines[1:]\n",
        "\n",
        "    # Calculate the total marks for each roll number\n",
        "    roll_marks = {}\n",
        "    for line in lines:\n",
        "        roll_number, marks = line\n",
        "        if roll_number in roll_marks:\n",
        "            roll_marks[roll_number] += int(marks)\n",
        "        else:\n",
        "            roll_marks[roll_number] = int(marks)\n",
        "\n",
        "    # Write the total marks to the output file\n",
        "    fp = open(output_file, 'w', newline='')\n",
        "    writer = csv.writer(fp)\n",
        "    for roll_number, total_marks in roll_marks.items():\n",
        "        writer.writerow([roll_number, total_marks])\n",
        "    fp.close()\n",
        "\n",
        "    print(f\"Output file '{output_file}' created successfully.\")\n",
        "\n",
        "\n",
        "input_file_path = '/content/Marks_adding.csv'    \n",
        "output_file_path = '/content/Output.csv' \n",
        "\n",
        "calculate_total_marks(input_file_path, output_file_path)\n"
      ]
    }
  ]
}